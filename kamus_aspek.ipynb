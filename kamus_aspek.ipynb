{
  "nbformat": 4,
  "nbformat_minor": 0,
  "metadata": {
    "colab": {
      "provenance": []
    },
    "kernelspec": {
      "name": "python3",
      "display_name": "Python 3"
    },
    "language_info": {
      "name": "python"
    }
  },
  "cells": [
    {
      "cell_type": "markdown",
      "source": [
        "## Mengambil Kata Kunci dari data ulasan karyawan Shopee"
      ],
      "metadata": {
        "id": "BsDgpCOlCGPb"
      }
    },
    {
      "cell_type": "code",
      "source": [
        "# Install library\n",
        "%pip install pandas scikit-learn spacy\n",
        "python -m spacy download en_core_web_sm"
      ],
      "metadata": {
        "id": "1BVIgVNhzdmq"
      },
      "execution_count": null,
      "outputs": []
    },
    {
      "cell_type": "code",
      "execution_count": null,
      "metadata": {
        "colab": {
          "base_uri": "https://localhost:8080/"
        },
        "id": "AjAGC2NzzZ6e",
        "outputId": "8f480c71-471a-4e28-8ea5-8458f5316643"
      },
      "outputs": [
        {
          "output_type": "stream",
          "name": "stdout",
          "text": [
            "✅ Selesai — 378 calon aspek disimpan di 'calon_aspek_dari_shopee.csv'\n"
          ]
        }
      ],
      "source": [
        "import pandas as pd\n",
        "from sklearn.feature_extraction.text import TfidfVectorizer\n",
        "import spacy\n",
        "import re\n",
        "\n",
        "# 1. LOAD ULASAN DARI FILE\n",
        "df = pd.read_csv('shopee_cleaned_reviews.csv')\n",
        "pros = df['Review Pros'].dropna().astype(str)\n",
        "cons = df['Review Cons'].dropna().astype(str)\n",
        "all_reviews = pd.concat([pros, cons], ignore_index=True).str.lower()\n",
        "\n",
        "# 2. BERSIHKAN TEKS\n",
        "all_reviews = all_reviews.apply(lambda x: re.sub(r'[^a-z\\s]', '', x))\n",
        "\n",
        "# 3. TF-IDF EKSTRAKSI\n",
        "vectorizer = TfidfVectorizer(ngram_range=(1, 2), stop_words='english', max_df=0.8, min_df=5)\n",
        "X = vectorizer.fit_transform(all_reviews)\n",
        "tfidf_scores = zip(vectorizer.get_feature_names_out(), X.sum(axis=0).tolist()[0])\n",
        "sorted_keywords = sorted(tfidf_scores, key=lambda x: x[1], reverse=True)\n",
        "\n",
        "# 4. FILTER KATA BENDA / ADJEKTIVA\n",
        "nlp = spacy.load(\"en_core_web_sm\")\n",
        "filtered_terms = []\n",
        "for term, score in sorted_keywords:\n",
        "    doc = nlp(term)\n",
        "    if all(token.pos_ in ['NOUN', 'ADJ'] for token in doc):\n",
        "        filtered_terms.append((term, score))\n",
        "\n",
        "# 5. SIMPAN HASIL\n",
        "df_terms = pd.DataFrame(filtered_terms, columns=['term', 'score'])\n",
        "df_terms.to_csv('calon_aspek_dari_shopee.csv', index=False)\n",
        "print(f\"✅ Selesai — {len(df_terms)} calon aspek disimpan di 'calon_aspek_dari_shopee.csv'\")\n"
      ]
    },
    {
      "cell_type": "markdown",
      "source": [
        "### Memastikan hanya kata kunci yang relevan yang dipilih"
      ],
      "metadata": {
        "id": "NAYZf5aMCbi_"
      }
    },
    {
      "cell_type": "code",
      "source": [
        "import pandas as pd\n",
        "import spacy\n",
        "\n",
        "# Muat model bahasa Inggris dari spaCy\n",
        "nlp = spacy.load(\"en_core_web_sm\")\n",
        "\n",
        "# Baca file term hasil ekstraksi\n",
        "df = pd.read_csv(\"calon_aspek_dari_shopee.csv\")\n",
        "\n",
        "# Fungsi: hanya simpan term yang TIDAK mengandung adjective\n",
        "def is_not_adj(term):\n",
        "    doc = nlp(term)\n",
        "    return not any(token.pos_ == 'ADJ' for token in doc)\n",
        "\n",
        "# Terapkan filter\n",
        "df_filtered = df[df['term'].apply(is_not_adj)].reset_index(drop=True)\n",
        "\n",
        "# Simpan hasil\n",
        "df_filtered.to_csv(\"calon_aspek_noun_only.csv\", index=False)\n",
        "print(f\"✅ Selesai — {len(df_filtered)} term disimpan di calon_aspek_noun_only.csv\")\n"
      ],
      "metadata": {
        "colab": {
          "base_uri": "https://localhost:8080/"
        },
        "id": "1xdMiWC70rUy",
        "outputId": "18fbdb42-879d-4bbb-a21d-904d010cbc66"
      },
      "execution_count": null,
      "outputs": [
        {
          "output_type": "stream",
          "name": "stdout",
          "text": [
            "✅ Selesai — 226 term disimpan di calon_aspek_noun_only.csv\n"
          ]
        }
      ]
    },
    {
      "cell_type": "markdown",
      "source": [
        "## Klasifikasi kata kunci ke dalam aspek (updated ver.)"
      ],
      "metadata": {
        "id": "9XrLo91HV_Rw"
      }
    },
    {
      "cell_type": "code",
      "source": [
        "# ---------- Install jika belum ----------\n",
        "# pip install pandas sentence-transformers torch\n",
        "\n",
        "import pandas as pd\n",
        "from sentence_transformers import SentenceTransformer, util\n",
        "import torch\n",
        "\n",
        "# ---------- 1. LOAD DATA ----------\n",
        "df_terms = pd.read_csv(\"input_term_new.csv\")  # pastikan file ini tersedia di folder kerja\n",
        "terms = df_terms['term'].dropna().astype(str).tolist()\n",
        "\n",
        "# ---------- 2. DEFINISI ASPEK, KATEGORI & DESKRIPSI ----------\n",
        "herzberg_aspects = [\n",
        "    'Achievement', 'Recognition', 'Work Itself', 'Responsibility', 'Growth', 'Advancement',\n",
        "    'Compensation', 'Supervision', 'Work Condition', 'Interpersonal Relations',\n",
        "    'Company Policy', 'Job Security', 'Personal Life'\n",
        "]\n",
        "\n",
        "aspect_to_category = {\n",
        "    'Achievement': 'Motivator',\n",
        "    'Recognition': 'Motivator',\n",
        "    'Work Itself': 'Motivator',\n",
        "    'Responsibility': 'Motivator',\n",
        "    'Growth': 'Motivator',\n",
        "    'Advancement': 'Motivator',\n",
        "    'Compensation': 'Hygiene',\n",
        "    'Supervision': 'Hygiene',\n",
        "    'Work Condition': 'Hygiene',\n",
        "    'Interpersonal Relations': 'Hygiene',\n",
        "    'Company Policy': 'Hygiene',\n",
        "    'Job Security': 'Hygiene',\n",
        "    'Personal Life': 'Hygiene'\n",
        "}\n",
        "\n",
        "aspect_descriptions = {\n",
        "    'Achievement': \"Feeling a sense of accomplishment and success in completing meaningful work tasks.\",\n",
        "    'Recognition': \"Receiving praise, appreciation, or acknowledgment for one’s contributions and performance.\",\n",
        "    'Work Itself': \"The actual tasks and responsibilities of the job being engaging, enjoyable, or fulfilling.\",\n",
        "    'Responsibility': \"Having autonomy, authority, or being trusted with important duties and decisions.\",\n",
        "    'Growth': \"Opportunities for personal learning, skill development, and self-improvement through work.\",\n",
        "    'Advancement': \"Possibility of promotion, career progression, or moving up within the organization.\",\n",
        "    'Compensation': \"The salary, bonuses, and other financial rewards provided for performing the job.\",\n",
        "    'Supervision': \"The quality and fairness of guidance, support, and feedback from managers or supervisors.\",\n",
        "    'Work Condition': \"The physical environment, tools, infrastructure, and overall conditions of the workplace.\",\n",
        "    'Interpersonal Relations': \"The nature of relationships and social interactions with coworkers, managers, and peers.\",\n",
        "    'Company Policy': \"The rules, procedures, and administrative practices set by the organization.\",\n",
        "    'Job Security': \"The perceived stability and continuity of employment within the organization.\",\n",
        "    'Personal Life': \"The extent to which work allows balance with family time, health, and personal well-being.\"\n",
        "}\n",
        "\n",
        "aspect_sentences = [aspect_descriptions[asp] for asp in herzberg_aspects]\n",
        "\n",
        "# ---------- 3. LOAD MODEL DAN ENCODING ----------\n",
        "model = SentenceTransformer('all-MiniLM-L6-v2')  # Ganti ke 'all-mpnet-base-v2' jika mau hasil lebih akurat\n",
        "#model = SentenceTransformer('all-mpnet-base-v2')  # Ganti ke 'all-mpnet-base-v2' jika mau hasil lebih akurat\n",
        "term_embeddings = model.encode(terms, convert_to_tensor=True)\n",
        "description_embeddings = model.encode(aspect_sentences, convert_to_tensor=True)\n",
        "\n",
        "# ---------- 4. KLASIFIKASI DENGAN DESKRIPSI ----------\n",
        "assigned_aspects = []\n",
        "aspect_meanings = []\n",
        "similarity_scores = []\n",
        "\n",
        "for emb in term_embeddings:\n",
        "    sims = util.cos_sim(emb, description_embeddings)[0]\n",
        "    best_idx = torch.argmax(sims).item()\n",
        "    best_score = sims[best_idx].item()\n",
        "    best_aspect = herzberg_aspects[best_idx]\n",
        "    best_description = aspect_sentences[best_idx]\n",
        "\n",
        "    assigned_aspects.append(best_aspect)\n",
        "    aspect_meanings.append(best_description)\n",
        "    similarity_scores.append(best_score)\n",
        "\n",
        "# ---------- 5. SIMPAN HASIL ----------\n",
        "df_terms['Aspect'] = assigned_aspects\n",
        "df_terms['Category'] = df_terms['Aspect'].map(aspect_to_category)\n",
        "df_terms['Aspect_Description'] = aspect_meanings\n",
        "df_terms['Similarity_Score'] = similarity_scores\n",
        "\n",
        "df_terms.to_csv(\"hasil_klasifikasi_dengan_deskripsi_aspek.csv\", index=False)\n",
        "print(\"✅ Hasil disimpan ke hasil_klasifikasi_dengan_deskripsi_aspek.csv\")\n"
      ],
      "metadata": {
        "colab": {
          "base_uri": "https://localhost:8080/"
        },
        "id": "NNZKgCrCWDrI",
        "outputId": "5e178652-fb2c-4d68-a55a-be0119d250f1"
      },
      "execution_count": null,
      "outputs": [
        {
          "output_type": "stream",
          "name": "stdout",
          "text": [
            "✅ Hasil disimpan ke hasil_klasifikasi_dengan_deskripsi_aspek.csv\n"
          ]
        }
      ]
    },
    {
      "cell_type": "code",
      "source": [],
      "metadata": {
        "id": "uSKPsg6_Ou9l"
      },
      "execution_count": null,
      "outputs": []
    }
  ]
}