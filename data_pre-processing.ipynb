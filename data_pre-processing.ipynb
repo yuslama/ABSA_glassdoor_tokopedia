{
  "nbformat": 4,
  "nbformat_minor": 0,
  "metadata": {
    "colab": {
      "provenance": []
    },
    "kernelspec": {
      "name": "python3",
      "display_name": "Python 3"
    },
    "language_info": {
      "name": "python"
    }
  },
  "cells": [
    {
      "cell_type": "markdown",
      "source": [
        "## Data Cleaning +\tHandling Missing Entries + Duplicate Elimination"
      ],
      "metadata": {
        "id": "s2qGhIlNEwwe"
      }
    },
    {
      "cell_type": "code",
      "execution_count": null,
      "metadata": {
        "id": "bmPx8nMsACdI"
      },
      "outputs": [],
      "source": [
        "import pandas as pd\n",
        "import re\n",
        "\n",
        "# 0. MEMUAT DATASET\n",
        "nama_file_input = 'export_1750496855742(tokped_review).csv'\n",
        "\n",
        "try:\n",
        "    # Membaca file CSV dengan pemisah (separator) titik koma (;)\n",
        "    df = pd.read_csv(nama_file_input, sep=';')\n",
        "    print(f\"✅ Dataset '{nama_file_input}' berhasil dimuat.\")\n",
        "    print(f\"Bentuk data awal: {df.shape[0]} baris, {df.shape[1]} kolom.\")\n",
        "except FileNotFoundError:\n",
        "    print(f\"❌ ERROR: File '{nama_file_input}' tidak ditemukan. Pastikan file berada di folder yang sama.\")\n",
        "    exit()\n",
        "\n",
        "# 1. DATA CLEANING\n",
        "print(\"\\nMemulai proses Data Cleaning...\")\n",
        "\n",
        "# 1.1 Memilih kolom yang relevan untuk analisis\n",
        "kolom_relevan = [\n",
        "    'Review Date',\n",
        "    'Review Pros',\n",
        "    'Review Cons',\n",
        "    'Review Rating Overall',\n",
        "    'Is Current Job'\n",
        "]\n",
        "# Memastikan semua kolom relevan ada di dataframe\n",
        "kolom_tersedia = [col for col in kolom_relevan if col in df.columns]\n",
        "df_cleaned = df[kolom_tersedia].copy()\n",
        "print(f\"   - Kolom yang tidak relevan dibuang. Sisa {len(df_cleaned.columns)} kolom.\")\n",
        "\n",
        "# 1.2 Membuat fungsi pembersih teks yang robust\n",
        "def clean_text(text):\n",
        "    \"\"\"Fungsi untuk membersihkan teks dari HTML, URL, karakter spesial, dan spasi berlebih.\"\"\"\n",
        "    # Menangani jika input bukan string (misalnya, float NaN)\n",
        "    if not isinstance(text, str):\n",
        "        return \"\"\n",
        "\n",
        "    # Menghapus tag HTML\n",
        "    text = re.sub(r'<.*?>', '', text)\n",
        "    # Menghapus URL\n",
        "    text = re.sub(r'http\\S+|www\\S+|https\\S+', '', text, flags=re.MULTILINE)\n",
        "    # Menghapus karakter newline dan tab, menggantinya dengan spasi\n",
        "    text = text.replace('\\n', ' ').replace('\\r', ' ').replace('\\t', ' ')\n",
        "    # Menghapus karakter spesial, hanya menyisakan huruf, angka, dan beberapa tanda baca dasar\n",
        "    text = re.sub(r'[^a-zA-Z0-9\\s.,\\'!?-]', '', text)\n",
        "    # Menghapus spasi berlebih di awal, akhir, dan tengah\n",
        "    text = re.sub(r'\\s+', ' ', text).strip()\n",
        "    return text\n",
        "\n",
        "# Menerapkan fungsi pembersih ke kolom 'Review Pros' dan 'Review Cons'\n",
        "df_cleaned['Review Pros'] = df_cleaned['Review Pros'].apply(clean_text)\n",
        "df_cleaned['Review Cons'] = df_cleaned['Review Cons'].apply(clean_text)\n",
        "print(\"   - Teks pada kolom 'Review Pros' dan 'Review Cons' telah dibersihkan.\")\n",
        "\n",
        "# 2. HANDLING MISSING ENTRIES\n",
        "print(\"\\nMemulai proses Handling Missing Entries...\")\n",
        "baris_sebelum_handling = len(df_cleaned)\n",
        "\n",
        "# Menghapus baris di mana KEDUA kolom 'Review Pros' DAN 'Review Cons' kosong setelah dibersihkan\n",
        "# Ini memastikan ulasan tersebut benar-benar tidak memiliki konten teks.\n",
        "df_cleaned = df_cleaned[~((df_cleaned['Review Pros'] == '') & (df_cleaned['Review Cons'] == ''))]\n",
        "\n",
        "baris_setelah_handling = len(df_cleaned)\n",
        "print(f\"   - Jumlah baris sebelum: {baris_sebelum_handling}\")\n",
        "print(f\"   - Jumlah baris sesudah: {baris_setelah_handling}\")\n",
        "print(f\"   - Total baris kosong yang dihapus: {baris_sebelum_handling - baris_setelah_handling}\")\n",
        "\n",
        "# 3. DUPLICATE ELIMINATION\n",
        "print(\"\\nMemulai proses Duplicate Elimination...\")\n",
        "baris_sebelum_dedup = len(df_cleaned)\n",
        "\n",
        "# Menghapus baris duplikat berdasarkan konten ulasan dan tanggalnya\n",
        "# Ini adalah cara yang robust untuk memastikan ulasan yang sama persis tidak dihitung dua kali\n",
        "kolom_untuk_duplikat = ['Review Date', 'Review Pros', 'Review Cons']\n",
        "df_cleaned.drop_duplicates(subset=kolom_untuk_duplikat, inplace=True, keep='first')\n",
        "\n",
        "baris_setelah_dedup = len(df_cleaned)\n",
        "print(f\"   - Jumlah baris sebelum: {baris_sebelum_dedup}\")\n",
        "print(f\"   - Jumlah baris sesudah: {baris_setelah_dedup}\")\n",
        "print(f\"   - Total baris duplikat yang dihapus: {baris_sebelum_dedup - baris_setelah_dedup}\")\n",
        "\n",
        "# 5. MENYIMPAN HASIL\n",
        "# Menyimpan dataframe yang sudah bersih ke file CSV baru\n",
        "nama_file_output = 'tokopedia_reviews_cleaned.csv'\n",
        "df_cleaned.to_csv(nama_file_output, index=False, encoding='utf-8-sig')\n",
        "\n",
        "print(f\"\\n🎉 Proses selesai! Dataset yang bersih telah disimpan sebagai '{nama_file_output}'.\")\n",
        "print(f\"Bentuk data akhir: {df_cleaned.shape[0]} baris, {df_cleaned.shape[1]} kolom.\")\n",
        "print(\"\\n5 baris pertama dari data yang sudah bersih:\")\n",
        "print(df_cleaned.head())"
      ]
    },
    {
      "cell_type": "markdown",
      "source": [
        "### Merapikan format tanggal"
      ],
      "metadata": {
        "id": "lTdXxkhu5_tX"
      }
    },
    {
      "cell_type": "code",
      "source": [
        "import pandas as pd\n",
        "import sys\n",
        "\n",
        "# 0. Load dataset\n",
        "nama_file_input = 'tokopedia_reviews_new.csv'\n",
        "nama_file_output = 'tokopedia_reviews_date_cleaned.csv' # Nama file output baru\n",
        "\n",
        "# 1. Pembersihan format tanggal\n",
        "try:\n",
        "    # Load data dari file CSV\n",
        "    df = pd.read_csv(nama_file_input)\n",
        "    print(f\"✅ File '{nama_file_input}' berhasil dimuat. Total baris: {len(df)}\")\n",
        "\n",
        "    # Memeriksa apakah kolom 'Review Date' ada (menggunakan nama kolom yang dikoreksi)\n",
        "    if 'Review Date' in df.columns:\n",
        "        print(\"\\nMemproses kolom 'Review Date'...\")\n",
        "\n",
        "        # 1. Mengubah kolom 'Review Date' ke format datetime\n",
        "        # errors='coerce' akan mengubah nilai yang tidak bisa di-parse menjadi NaT (Not a Time)\n",
        "        df['Review Date'] = pd.to_datetime(df['Review Date'], errors='coerce')\n",
        "\n",
        "        # 2. Menghapus baris yang memiliki nilai NaT setelah konversi (jika ada data tanggal yang rusak)\n",
        "        initial_rows = len(df)\n",
        "        df.dropna(subset=['Review Date'], inplace=True) # Menggunakan nama kolom yang dikoreksi\n",
        "        if len(df) < initial_rows:\n",
        "            print(f\"⚠️ {initial_rows - len(df)} baris dengan format tanggal tidak valid telah dihapus.\")\n",
        "\n",
        "        # 3. Memformat ulang kolom 'Review Date' agar hanya menampilkan tanggal (DD-MM-YYYY)\n",
        "        df['Review Date'] = df['Review Date'].dt.strftime('%d-%m-%Y') # Menggunakan nama kolom yang dikoreksi\n",
        "        print(\"✅ Kolom 'Review Date' berhasil dirapikan (format DD-MM-YYYY).\")\n",
        "\n",
        "        # Menampilkan beberapa baris pertama dengan kolom tanggal yang sudah dirapikan\n",
        "        print(\"\\n--- Contoh Data Setelah Dirapikan ---\")\n",
        "        # Pastikan Anda memilih kolom yang ingin ditampilkan, termasuk 'Review Date'\n",
        "        print(df[['Review Date', 'Review Pros', 'Review Cons']].head())\n",
        "\n",
        "        # Menyimpan DataFrame yang sudah dirapikan ke file CSV baru\n",
        "        df.to_csv(nama_file_output, index=False, encoding='utf-8-sig')\n",
        "        print(f\"\\n✅ Data yang dirapikan telah disimpan ke file '{nama_file_output}'.\")\n",
        "\n",
        "    else:\n",
        "        print(f\"❌ Kolom 'Review Date' tidak ditemukan dalam file '{nama_file_input}'.\")\n",
        "        print(\"Pastikan nama kolom sudah benar (case-sensitive, termasuk spasi jika ada).\")\n",
        "\n",
        "except FileNotFoundError:\n",
        "    print(f\"❌ ERROR: File '{nama_file_input}' tidak ditemukan.\")\n",
        "    print(\"Pastikan file CSV berada di direktori yang sama dengan skrip Python ini.\")\n",
        "    sys.exit()\n",
        "except Exception as e:\n",
        "    print(f\"❌ Terjadi kesalahan saat memproses file: {e}\")\n",
        "    sys.exit()"
      ],
      "metadata": {
        "colab": {
          "base_uri": "https://localhost:8080/"
        },
        "id": "zRhx0qwQ6BfM",
        "outputId": "a240a5a0-7700-45b0-f0e3-c9296a923b91"
      },
      "execution_count": null,
      "outputs": [
        {
          "output_type": "stream",
          "name": "stdout",
          "text": [
            "✅ File 'tokopedia_reviews_new.csv' berhasil dimuat. Total baris: 1795\n",
            "\n",
            "Memproses kolom 'Review Date'...\n",
            "⚠️ 3 baris dengan format tanggal tidak valid telah dihapus.\n",
            "✅ Kolom 'Review Date' berhasil dirapikan (format DD-MM-YYYY).\n",
            "\n",
            "--- Contoh Data Setelah Dirapikan ---\n",
            "  Review Date                                        Review Pros  \\\n",
            "0  19-06-2025                   No Comment No Comment No Comment   \n",
            "1  16-06-2025  Collaborative team, supporting each other with...   \n",
            "2  14-06-2025             good people culture growth opportunity   \n",
            "3  08-06-2025           you will get bonus when you perform well   \n",
            "4  07-06-2025                 have some future plan for employer   \n",
            "\n",
            "                                  Review Cons  \n",
            "0             There is no cons on the company  \n",
            "1               Unstable future due to merger  \n",
            "2  fast pace lots of initiatives at same time  \n",
            "3                    the salary is pretty low  \n",
            "4                i do not thing there is cons  \n",
            "\n",
            "✅ Data yang dirapikan telah disimpan ke file 'tokopedia_reviews_date_cleaned.csv'.\n"
          ]
        }
      ]
    },
    {
      "cell_type": "code",
      "source": [],
      "metadata": {
        "id": "q5XK2yTO6Cd0"
      },
      "execution_count": null,
      "outputs": []
    }
  ]
}